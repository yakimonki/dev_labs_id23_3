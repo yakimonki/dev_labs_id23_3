{
  "cells": [
    {
      "cell_type": "markdown",
      "metadata": {
        "id": "fuYOpDnB0PjL"
      },
      "source": [
        "# <font color=\"Teal\"> **ЛАБОРАТОРНАЯ РАБОТА «ОСНОВЫ СИСТЕМНОГО ПРОГРАММИРОВАНИЯ»**"
      ]
    },
    {
      "cell_type": "markdown",
      "metadata": {
        "id": "tuzr_wyx1yvO"
      },
      "source": [
        "**Цель задания**\n",
        "\n",
        "Целью данного задания является развитие навыков системного программирования на языке Python через выполнение серии упражнений, охватывающих работу с файловой системой, процессами, сетями, системной информацией, многопоточностью и асинхронным программированием. Студенты должны не только выполнить указанные задачи, но и глубоко разобраться в используемых библиотеках и конструкциях языка, а также подготовить отчет, описывающий логику работы каждого блока кода.\n",
        "\n",
        "**Задачи для выполнения**\n",
        "\n",
        "* Работа с файловой системой\n",
        "    - Создание директории по указанному пути.\n",
        "    - Перечисление файлов в директории и ее поддиректориях.\n",
        "\n",
        "* Работа с процессами\n",
        "    - Запуск внешних команд и программ (ping, ls/dir).\n",
        "    - Анализ результатов выполнения команд.\n",
        "\n",
        "* Работа с сетями\n",
        "    - Отправка HTTP-запросов и анализ ответов.\n",
        "    - Установка соединения с сервером через сокеты и обмен сообщениями.\n",
        "\n",
        "* Работа с системной информацией\n",
        "    - Отображение информации о системе.\n",
        "    - Работа с рабочим каталогом и переменными окружения.\n",
        "\n",
        "* Многопоточность и асинхронное программирование\n",
        "    - Реализация многопоточности для выполнения длительных задач.\n",
        "    - Асинхронное выполнение и ожидание результатов операций.\n",
        "\n",
        "**Требования к отчету**\n",
        "\n",
        "Отчет должен содержать:\n",
        "* Описание каждого упражнения и его цели.\n",
        "* Пошаговое объяснение реализации задачи, включая описание используемых функций и методов.\n",
        "* Анализ полученных результатов и выводы.\n",
        "* Любые трудности, с которыми студенты столкнулись при выполнении задания, и способы их решения.\n",
        "* Размышления о том, как полученные знания могут быть применены в практических проектах."
      ]
    },
    {
      "cell_type": "markdown",
      "metadata": {
        "id": "_4V_U0_A0Rxw"
      },
      "source": [
        "## <font color=\"Teal\"> Упражнение 1. Работа с файловой системой"
      ]
    },
    {
      "cell_type": "markdown",
      "metadata": {
        "id": "a4NwCWib0k7F"
      },
      "source": [
        "* Написать скрипт для создания новой директории. Пусть скрипт принимает имя директории от пользователя и создает ее в указанном месте. Если директория уже существует, скрипт должен сообщить об этом.\n",
        "\n",
        "* Написать функцию для перечисления всех файлов в данной директории и всех ее поддиректориях. Функция должна выводить абсолютные пути файлов."
      ]
    },
    {
      "cell_type": "markdown",
      "metadata": {
        "id": "HsXAnUbJ2OTh"
      },
      "source": [
        "**Шаги**"
      ]
    },
    {
      "cell_type": "markdown",
      "metadata": {
        "id": "C0zjlsgK2RfN"
      },
      "source": [
        "1. Импортировать модуль `os`. Этот модуль содержит функции для работы с операционной системой, включая файловую систему."
      ]
    },
    {
      "cell_type": "code",
      "execution_count": null,
      "metadata": {
        "colab": {
          "background_save": true
        },
        "id": "z19VwnBZ2WuK"
      },
      "outputs": [],
      "source": [
        "import os"
      ]
    },
    {
      "cell_type": "markdown",
      "metadata": {
        "id": "Px7DBldA2aOq"
      },
      "source": [
        "2. Получить от пользователя путь для создания директории. Используйте функцию `input()` для запроса пути."
      ]
    },
    {
      "cell_type": "code",
      "execution_count": null,
      "metadata": {
        "colab": {
          "base_uri": "https://localhost:8080/"
        },
        "id": "STsi4CD22gtY",
        "outputId": "85790927-99f6-48f3-bf26-c12e7b723eb1"
      },
      "outputs": [
        {
          "name": "stdout",
          "output_type": "stream",
          "text": [
            "Введите путь для создания директории: newDev\n"
          ]
        }
      ],
      "source": [
        "directory = input(\"Введите путь для создания директории: \")"
      ]
    },
    {
      "cell_type": "markdown",
      "metadata": {
        "id": "CitXdppk1yym"
      },
      "source": [
        "3. Проверить, существует ли уже такая директория. Используйте `os.path.exists()` для проверки существования директории."
      ]
    },
    {
      "cell_type": "code",
      "execution_count": null,
      "metadata": {
        "colab": {
          "base_uri": "https://localhost:8080/"
        },
        "id": "_k45JWbu1yyo",
        "outputId": "7c4dee64-1716-48a9-f671-2c2a701b8c35"
      },
      "outputs": [
        {
          "name": "stdout",
          "output_type": "stream",
          "text": [
            "Директория newDev создана\n"
          ]
        }
      ],
      "source": [
        "if os.path.exists(directory):\n",
        "    print(\"Директория уже существует\")\n",
        "else:\n",
        "    os.makedirs(directory)\n",
        "    print(f\"Директория {directory} создана\")"
      ]
    },
    {
      "cell_type": "markdown",
      "metadata": {
        "id": "TLAdl_iE1yy8"
      },
      "source": [
        "4. Используйте функцию `os.walk()` для обхода директории и всех её поддиректорий. Эта функция генерирует имена файлов в дереве каталогов, обходя дерево сверху вниз или снизу вверх."
      ]
    },
    {
      "cell_type": "code",
      "execution_count": null,
      "metadata": {
        "id": "jLrPGZGm1yy9"
      },
      "outputs": [],
      "source": [
        "def list_files(directory):\n",
        "    for root, dirs, files in os.walk(directory):\n",
        "        for file in files:\n",
        "            print(os.path.join(root, file))"
      ]
    },
    {
      "cell_type": "markdown",
      "metadata": {
        "id": "OH-SOhw71yy9"
      },
      "source": [
        "5. Вызовите функцию и передайте ей путь к директории."
      ]
    },
    {
      "cell_type": "code",
      "execution_count": null,
      "metadata": {
        "colab": {
          "base_uri": "https://localhost:8080/"
        },
        "id": "6piPS3Cc1yy-",
        "outputId": "b7e81ef9-95c2-43a6-a8bc-d5534277adc2"
      },
      "outputs": [
        {
          "name": "stdout",
          "output_type": "stream",
          "text": [
            "Введите путь к директории для перечисления файлов: sample_data\n",
            "sample_data/anscombe.json\n",
            "sample_data/README.md\n",
            "sample_data/mnist_train_small.csv\n",
            "sample_data/mnist_test.csv\n",
            "sample_data/california_housing_test.csv\n",
            "sample_data/california_housing_train.csv\n"
          ]
        }
      ],
      "source": [
        "directory = input(\"Введите путь к директории для перечисления файлов: \")\n",
        "list_files(directory)"
      ]
    },
    {
      "cell_type": "markdown",
      "metadata": {
        "id": "qt9FnPLD1N7l"
      },
      "source": [
        "## <font color=\"Teal\"> Упражнение 2. Работа с процессами"
      ]
    },
    {
      "cell_type": "markdown",
      "metadata": {
        "id": "Dlcp59261Oot"
      },
      "source": [
        "* Написать скрипт для запуска внешних команд или программ. Пусть скрипт запускает команду `ping` для проверки доступности какого-либо ресурса в сети, например, `google.com`. Результат выполнения команды должен быть выведен пользователю.\n",
        "\n",
        "* Исследовать возможности модуля `subprocess`. Написать скрипт, который выполняет команду `ls` (для Unix/Linux) или `dir` (для Windows) и обрабатывает результат: выводит количество файлов в директории."
      ]
    },
    {
      "cell_type": "markdown",
      "metadata": {
        "id": "2Ir2AowO1yza"
      },
      "source": [
        "1. Импортировать модуль `subprocess`. Этот модуль позволяет запускать новые приложения и команды, подключаться к их каналам ввода/вывода/ошибок и получать их коды возврата."
      ]
    },
    {
      "cell_type": "code",
      "execution_count": null,
      "metadata": {
        "id": "34BXmy4x1yzb"
      },
      "outputs": [],
      "source": [
        "import subprocess"
      ]
    },
    {
      "cell_type": "markdown",
      "metadata": {
        "id": "jpR5XRzD1yzm"
      },
      "source": [
        "2. Запустить команду `ping`. Используйте `subprocess.run()` для запуска команды и вывода результата."
      ]
    },
    {
      "cell_type": "code",
      "execution_count": null,
      "metadata": {
        "id": "bRgBansPs67y"
      },
      "outputs": [],
      "source": [
        "!pip install pythonping"
      ]
    },
    {
      "cell_type": "code",
      "execution_count": null,
      "metadata": {
        "colab": {
          "base_uri": "https://localhost:8080/"
        },
        "id": "EZqKgmCX1yzn",
        "outputId": "043bee24-c3a6-41f3-9219-afa7e4a23329"
      },
      "outputs": [
        {
          "name": "stdout",
          "output_type": "stream",
          "text": [
            "Reply from 108.177.121.113, 29 bytes in 2.16ms\r\n",
            "Reply from 108.177.121.113, 29 bytes in 0.32ms\r\n",
            "Reply from 108.177.121.113, 29 bytes in 0.32ms\r\n",
            "Reply from 108.177.121.113, 29 bytes in 0.3ms\r\n",
            "\r\n",
            "Round Trip Times min/avg/max is 0.3/0.77/2.16 ms\n"
          ]
        }
      ],
      "source": [
        "from pythonping import ping\n",
        "\n",
        "response = ping('google.com', count=4)  # Отправляем 4 пакета\n",
        "print(response)"
      ]
    },
    {
      "cell_type": "markdown",
      "metadata": {
        "id": "jIPCRD4M1yzn"
      },
      "source": [
        "3. Запустить команду `ls` или `dir`. Используйте `subprocess.check_output()` для выполнения команды и получения вывода."
      ]
    },
    {
      "cell_type": "code",
      "execution_count": null,
      "metadata": {
        "colab": {
          "base_uri": "https://localhost:8080/"
        },
        "id": "qqPksSAK1yzo",
        "outputId": "d9e55256-ad26-4254-b1bd-1c8b08c1b235"
      },
      "outputs": [
        {
          "name": "stdout",
          "output_type": "stream",
          "text": [
            "newDev\tsample_data\n",
            "\n",
            "Количество элементов: 1\n"
          ]
        }
      ],
      "source": [
        "try:\n",
        "    # Выполняем команду \"dir\" (список файлов и папок в текущей директории)\n",
        "    # subprocess.check_output выполняет команду и возвращает её вывод.\n",
        "    # Параметры:\n",
        "    # - \"dir\": команда для выполнения (в Windows).\n",
        "    # - shell=True: выполнение команды через оболочку (shell).\n",
        "    # - text=True: возвращает вывод в виде строки (а не байтов).\n",
        "    # - encoding='cp866': кодировка для декодирования вывода (Windows-1251 или cp866 для русских символов).\n",
        "    output = subprocess.check_output(\"dir\", shell=True, text=True, encoding='cp866')\n",
        "\n",
        "    # Выводим результат выполнения команды\n",
        "    print(output)\n",
        "\n",
        "    # Разделяем вывод на строки и удаляем лишние пробелы в начале и конце\n",
        "    files = output.strip().split('\\n')\n",
        "\n",
        "    # Выводим количество строк (элементов) в выводе команды\n",
        "    print(f\"Количество элементов: {len(files)}\")\n",
        "\n",
        "except subprocess.CalledProcessError as e:\n",
        "    # Если команда завершилась с ошибкой, перехватываем исключение\n",
        "    # subprocess.CalledProcessError возникает, если команда возвращает ненулевой код завершения\n",
        "    print(f\"Ошибка выполнения команды: {e}\")"
      ]
    },
    {
      "cell_type": "markdown",
      "metadata": {
        "id": "ANolYfT81yzp"
      },
      "source": [
        "4. Подсчитайте количество файлов в выводе, разделив строку по символу перевода строки и посчитав элементы списка."
      ]
    },
    {
      "cell_type": "code",
      "execution_count": null,
      "metadata": {
        "colab": {
          "base_uri": "https://localhost:8080/"
        },
        "id": "_w3YZ_Nq1yzp",
        "outputId": "834d1c2e-5165-46ed-ba44-e2b237cc1b31"
      },
      "outputs": [
        {
          "name": "stdout",
          "output_type": "stream",
          "text": [
            "['newDev', 'sample_data']\n",
            "Количество файлов: 2\n"
          ]
        }
      ],
      "source": [
        "files = output.strip().split('\\t')\n",
        "print(files)\n",
        "print(f\"Количество файлов: {len(files)}\")"
      ]
    },
    {
      "cell_type": "markdown",
      "metadata": {
        "id": "oExdBS_M1asB"
      },
      "source": [
        "## <font color=\"Teal\"> Упражнение 3. Работа с сетями"
      ]
    },
    {
      "cell_type": "markdown",
      "metadata": {
        "id": "d0ax6AM81d1N"
      },
      "source": [
        "* Написать скрипт для проверки доступности веб-сайта. Скрипт должен отправлять HTTP-запрос к выбранному веб-сайту и выводить статус-код ответа.\n",
        "\n",
        "* Изучить модуль `socket`. Написать скрипт, который подключается к серверу по заданному адресу и порту, отправляет простое текстовое сообщение и получает ответ."
      ]
    },
    {
      "cell_type": "markdown",
      "metadata": {
        "id": "yi4LuPog1yzz"
      },
      "source": [
        "1. Импортировать модуль `requests`. Этот модуль позволяет отправлять HTTP-запросы."
      ]
    },
    {
      "cell_type": "code",
      "execution_count": null,
      "metadata": {
        "id": "hYHMb0xQ1yz0"
      },
      "outputs": [],
      "source": [
        "import requests"
      ]
    },
    {
      "cell_type": "markdown",
      "metadata": {
        "id": "277Pot3F1yz0"
      },
      "source": [
        "2. Отправить GET-запрос к веб-сайту. Используйте `requests.get()` и обработайте объект ответа для вывода статус-кода."
      ]
    },
    {
      "cell_type": "code",
      "execution_count": null,
      "metadata": {
        "colab": {
          "base_uri": "https://localhost:8080/"
        },
        "id": "_sPwvsiY1yz1",
        "outputId": "6de6a74d-23f9-4300-d845-a39cbb5ff2f4"
      },
      "outputs": [
        {
          "name": "stdout",
          "output_type": "stream",
          "text": [
            "Статус-код: 200\n"
          ]
        }
      ],
      "source": [
        "response = requests.get(\"http://www.google.com\")\n",
        "print(f\"Статус-код: {response.status_code}\")"
      ]
    },
    {
      "cell_type": "markdown",
      "metadata": {
        "id": "oJ0WSe5q1yz8"
      },
      "source": [
        "3. Расширенная проверка доступности веб-сайта с использованием `requests`. Импорт необходимых модулей."
      ]
    },
    {
      "cell_type": "code",
      "execution_count": null,
      "metadata": {
        "id": "jK_VgN9I1y0c"
      },
      "outputs": [],
      "source": [
        "import requests\n",
        "import time"
      ]
    },
    {
      "cell_type": "markdown",
      "metadata": {
        "id": "twokLYT21y0d"
      },
      "source": [
        "4. Отправка GET-запроса, измерение времени выполнения и получения запроса."
      ]
    },
    {
      "cell_type": "code",
      "execution_count": null,
      "metadata": {
        "id": "H4uTfzKz1y0t"
      },
      "outputs": [],
      "source": [
        "start_time = time.time()\n",
        "response = requests.get(\"http://www.google.com\")\n",
        "end_time = time.time()"
      ]
    },
    {
      "cell_type": "markdown",
      "metadata": {
        "id": "b3mz0pqo1y0u"
      },
      "source": [
        "5. Анализ и вывод результатов."
      ]
    },
    {
      "cell_type": "code",
      "execution_count": null,
      "metadata": {
        "colab": {
          "base_uri": "https://localhost:8080/"
        },
        "id": "AOeKArrE1y0u",
        "outputId": "29cf2c8b-4c59-4ece-adbb-c5bb396d7a3c"
      },
      "outputs": [
        {
          "name": "stdout",
          "output_type": "stream",
          "text": [
            "Статус-код: 200\n",
            "Тип содержимого: text/html; charset=ISO-8859-1\n",
            "Размер контента: 7110 байт\n",
            "Время ответа: 0.1044 секунд\n"
          ]
        }
      ],
      "source": [
        "print(f\"Статус-код: {response.status_code}\")\n",
        "print(f\"Тип содержимого: {response.headers.get('Content-Type')}\")\n",
        "print(f\"Размер контента: {response.headers.get('Content-Length')} байт\")\n",
        "print(f\"Время ответа: {(end_time - start_time):.4f} секунд\")"
      ]
    },
    {
      "cell_type": "markdown",
      "metadata": {
        "id": "Orhxc5mV1y0v"
      },
      "source": [
        "6. Работа с сокетами для отправки HTTP-запроса. Импорт модуля `socket`."
      ]
    },
    {
      "cell_type": "code",
      "execution_count": null,
      "metadata": {
        "id": "CFHC_Q2N1y0x"
      },
      "outputs": [],
      "source": [
        "import socket"
      ]
    },
    {
      "cell_type": "markdown",
      "metadata": {
        "id": "vpT2zaMV1y1i"
      },
      "source": [
        "7. Определение хоста и порта."
      ]
    },
    {
      "cell_type": "code",
      "execution_count": null,
      "metadata": {
        "id": "e_3Fxlub1y1i"
      },
      "outputs": [],
      "source": [
        "host = 'google.com'\n",
        "port = 80"
      ]
    },
    {
      "cell_type": "markdown",
      "metadata": {
        "id": "XUTfb4rl1y1j"
      },
      "source": [
        "8. Формирование HTTP-запроса."
      ]
    },
    {
      "cell_type": "code",
      "execution_count": null,
      "metadata": {
        "id": "wdNo7gze1y15"
      },
      "outputs": [],
      "source": [
        "request = f\"GET / HTTP/1.1\\r\\nHost: {host}\\r\\nConnection: close\\r\\n\\r\\n\"\n",
        "\n",
        "# GET / HTTP/1.1\\r\\n\n",
        "# Host: {host}\\r\\n\n",
        "# Connection: close\\r\\n\n",
        "# \\r\\n\n",
        "\n",
        "# GET — HTTP-метод (запрашивает данные у сервера).\n",
        "#  / — Указывает, что мы запрашиваем главную страницу сайта (корневой путь).\n",
        "# HTTP/1.1 — Используемая версия HTTP (1.1 — стандартная версия с поддержкой Keep-Alive и заголовков).\n",
        "#  \\r\\n (возврат каретки \\r + новая строка \\n) — Разделитель строк в HTTP-запросах.\n",
        "\n",
        "# Host: — Указывает, к какому домену мы обращаемся (обязательно в HTTP/1.1).\n",
        "# {host} — Здесь подставляется домен (например, example.com).\n",
        "# \\r\\n — Конец строки\n"
      ]
    },
    {
      "cell_type": "markdown",
      "metadata": {
        "id": "IchZSCjS1y16"
      },
      "source": [
        "9. Создание сокета и подключение. Отправка запроса и получение ответа."
      ]
    },
    {
      "cell_type": "code",
      "execution_count": null,
      "metadata": {
        "colab": {
          "background_save": true
        },
        "id": "SkxFkeRF1y16",
        "outputId": "14a43bae-62de-4755-df47-996fc55782f8"
      },
      "outputs": [
        {
          "name": "stdout",
          "output_type": "stream",
          "text": [
            "HTTP/1.1 200 OK\r\n",
            "Content-Type: text/html\r\n",
            "ETag: \"84238dfc8092e5d9c0dac8ef93371a07:1736799080.121134\"\r\n",
            "Last-Modified: Mon, 13 Jan 2025 20:11:20 GMT\r\n",
            "Cache-Control: max-age=1109\r\n",
            "Date: Sun, 09 Mar 2025 11:57:12 GMT\r\n",
            "Content-Length: 1256\r\n",
            "Connection: keep-alive\r\n",
            "\r\n",
            "<!doctype html>\n",
            "<html>\n",
            "<head>\n",
            "    <title>Example Domain</title>\n",
            "\n",
            "    <meta charset=\"utf-8\" />\n",
            "    <meta http-equiv=\"Content-type\" content=\"text/html; charset=utf-8\" />\n",
            "    <meta name=\"viewport\" content=\"width=device-width, initial-scale=1\" />\n",
            "    <style type=\"text/css\">\n",
            "    body {\n",
            "        background-color: #f0f0f2;\n",
            "        margin: 0;\n",
            "        padding: 0;\n",
            "        font-family: -apple-system, system-ui, BlinkMacSystemFont, \"Segoe UI\", \"Open Sans\", \"Helvetica Neue\", Helvetica, Arial, sans-serif;\n",
            "        \n",
            "    }\n",
            "    div {\n",
            "        width: 600px;\n",
            "        margin: 5em auto;\n",
            "        padding: 2em;\n",
            "        background-color: #fdfdff;\n",
            "        border-radius: 0.5em;\n",
            "        box-shadow: 2px 3px 7px 2px rgba(0,0,0,0.02);\n",
            "    }\n",
            "    a:link, a:visited {\n",
            "        color: #38488f;\n",
            "        text-decoration: none;\n",
            "    }\n",
            "    @media (max-width: 700px) {\n",
            "        div {\n",
            "            margin: 0 auto;\n",
            "            width: auto;\n",
            "        }\n",
            "    }\n",
            "    </style>    \n",
            "</head>\n",
            "\n",
            "<body>\n",
            "<div>\n",
            "    <h1>Example Domain</h1>\n",
            "    <p>This domain is for use in illustrative examples in documents. You may use this\n",
            "    domain in literature without prior coordination or asking for permission.</p>\n",
            "    <p><a href=\"https://www.iana.org/domains/example\">More information...</a></p>\n",
            "</div>\n",
            "</body>\n",
            "</html>\n",
            "\n"
          ]
        }
      ],
      "source": [
        "import socket  # Импортируем модуль socket для работы с сетевыми соединениями\n",
        "\n",
        "host = \"example.com\"  # Указываем адрес сервера\n",
        "port = 80  # Указываем порт для подключения (обычно 80 для HTTP)\n",
        "\n",
        "# Создаем TCP-сокет и используем контекстный менеджер (with) для автоматического закрытия сокета\n",
        "with socket.socket(socket.AF_INET, socket.SOCK_STREAM) as s: # AF — Address Family (семейство адресов). INET — Internet (IPv4-адреса). SOCK — Socket Type (тип сокета). STREAM — Потоковый режим передачи данных (TCP).\n",
        "    s.connect((host, port))  # Подключаемся к серверу по указанному адресу и порту\n",
        "\n",
        "    s.sendall(request.encode())  # Отправляем запрос серверу, предварительно кодируя его в байты\n",
        "\n",
        "    response = \"\"  # Создаем переменную для хранения ответа от сервера\n",
        "    while True:\n",
        "        part = s.recv(4096).decode()  # Читаем данные от сервера порциями по 4096 байт и декодируем их в строку\n",
        "        if not part:  # Если сервер больше ничего не отправляет, выходим из цикла\n",
        "            break\n",
        "        response += part  # Добавляем полученные данные в переменную response\n",
        "\n",
        "# Теперь в переменной `response` хранится полный HTTP-ответ от сервера\n",
        "print(response)  # Выводим ответ на экран\n"
      ]
    },
    {
      "cell_type": "markdown",
      "metadata": {
        "id": "hpD0JYf91y17"
      },
      "source": [
        "10. Анализ и вывод ответа."
      ]
    },
    {
      "cell_type": "code",
      "execution_count": null,
      "metadata": {
        "id": "2G0sHTRY1y17",
        "outputId": "d983f5e3-04f6-4ca9-aad9-0847caad156c"
      },
      "outputs": [
        {
          "name": "stdout",
          "output_type": "stream",
          "text": [
            "Статус-код: 301\n",
            "Заголовки ответа:\n",
            "Location: http://www.google.com/\n",
            "Content-Type: text/html; charset=UTF-8\n",
            "Content-Security-Policy-Report-Only: object-src 'none';base-uri 'self';script-src 'nonce-Bd8HWyagClxSI3MHByIWDQ' 'strict-dynamic' 'report-sample' 'unsafe-eval' 'unsafe-inline' https: http:;report-uri https://csp.withgoogle.com/csp/gws/other-hp\n",
            "Date: Tue, 06 Feb 2024 10:15:41 GMT\n",
            "Expires: Thu, 07 Mar 2024 10:15:41 GMT\n",
            "Cache-Control: public, max-age=2592000\n",
            "Server: gws\n",
            "Content-Length: 219\n",
            "X-XSS-Protection: 0\n",
            "X-Frame-Options: SAMEORIGIN\n",
            "Connection: close\n"
          ]
        }
      ],
      "source": [
        "headers, _, body = response.partition('\\r\\n\\r\\n')\n",
        "status_line = headers.splitlines()[0]\n",
        "status_code = status_line.split(' ')[1]\n",
        "\n",
        "print(f\"Статус-код: {status_code}\")\n",
        "print(\"Заголовки ответа:\")\n",
        "print('\\n'.join(headers.splitlines()[1:]))"
      ]
    },
    {
      "cell_type": "markdown",
      "metadata": {
        "id": "66fBAnTb1pL1"
      },
      "source": [
        "## <font color=\"Teal\"> Упражнение 4. Работа с системной информацией"
      ]
    },
    {
      "cell_type": "markdown",
      "metadata": {
        "id": "ChYMcIL_1ud6"
      },
      "source": [
        "* Написать скрипт для отображения информации о системе. Скрипт должен выводить информацию о текущей операционной системе, версии Python, а также объем свободной и занятой памяти на диске.\n",
        "\n",
        "* Исследование модуля `os`. Написать функции для получения и вывода текущего рабочего каталога, изменения рабочего каталога и вывода списка всех переменных окружения."
      ]
    },
    {
      "cell_type": "markdown",
      "metadata": {
        "id": "e7MwxBri1y1_"
      },
      "source": [
        "1. Импортировать модули `os`, `platform` и `psutil`. Эти модули помогут получить информацию о системе."
      ]
    },
    {
      "cell_type": "code",
      "execution_count": null,
      "metadata": {
        "id": "ftuo6FuV1y2A"
      },
      "outputs": [],
      "source": [
        "import os, platform, psutil"
      ]
    },
    {
      "cell_type": "markdown",
      "metadata": {
        "id": "kYrTMKRR1y2B"
      },
      "source": [
        "2. Вывести информацию о системе. Используйте функции этих модулей для получения и вывода информации."
      ]
    },
    {
      "cell_type": "code",
      "execution_count": null,
      "metadata": {
        "colab": {
          "base_uri": "https://localhost:8080/"
        },
        "id": "mtwkVQUy1y2E",
        "outputId": "0a9fe04e-1581-4102-9b02-0d73d9bdf71a"
      },
      "outputs": [
        {
          "name": "stdout",
          "output_type": "stream",
          "text": [
            "ОС: Linux 6.1.58+\n",
            "Версия Python: 3.10.12\n",
            "Свободно на диске: 76.02 GB\n"
          ]
        }
      ],
      "source": [
        "print(f\"ОС: {platform.system()} {platform.release()}\")\n",
        "print(f\"Версия Python: {platform.python_version()}\")\n",
        "print(f\"Свободно на диске: {psutil.disk_usage('/').free / (1024**3):.2f} GB\")"
      ]
    },
    {
      "cell_type": "markdown",
      "metadata": {
        "id": "vLzTTZJG1y2F"
      },
      "source": [
        "3. Получить и вывести текущий рабочий каталог."
      ]
    },
    {
      "cell_type": "code",
      "execution_count": null,
      "metadata": {
        "colab": {
          "base_uri": "https://localhost:8080/"
        },
        "id": "UapbhOWt1y2F",
        "outputId": "9298b6bd-67e8-46da-967b-127670d27513"
      },
      "outputs": [
        {
          "name": "stdout",
          "output_type": "stream",
          "text": [
            "Текущий рабочий каталог: /content\n"
          ]
        }
      ],
      "source": [
        "print(f\"Текущий рабочий каталог: {os.getcwd()}\")"
      ]
    },
    {
      "cell_type": "markdown",
      "metadata": {
        "id": "hUP_6cPf1y2G"
      },
      "source": [
        "4. Изменить рабочий каталог и вывести его снова."
      ]
    },
    {
      "cell_type": "code",
      "execution_count": null,
      "metadata": {
        "colab": {
          "base_uri": "https://localhost:8080/"
        },
        "id": "2RYq2REK1y2H",
        "outputId": "239c06f2-b2be-4bb4-a2fb-cf49afb6279b"
      },
      "outputs": [
        {
          "name": "stdout",
          "output_type": "stream",
          "text": [
            "Новый рабочий каталог: /content/dir\n"
          ]
        }
      ],
      "source": [
        "os.chdir(r'/content/dir')\n",
        "print(f\"Новый рабочий каталог: {os.getcwd()}\")"
      ]
    },
    {
      "cell_type": "markdown",
      "metadata": {
        "id": "YCrXzfCE1y2H"
      },
      "source": [
        "5. Вывести список всех переменных окружения."
      ]
    },
    {
      "cell_type": "code",
      "execution_count": null,
      "metadata": {
        "id": "l_IvF2Nl1y2J"
      },
      "outputs": [],
      "source": [
        "print(\"Переменные окружения:\")\n",
        "for key, value in os.environ.items():\n",
        "    print(f\"{key}: {value}\")"
      ]
    },
    {
      "cell_type": "markdown",
      "metadata": {
        "id": "ZVcMhqpP19DA"
      },
      "source": [
        "## <font color=\"Teal\"> Упражнение 5. Многопоточность и асинхронное программирование"
      ]
    },
    {
      "cell_type": "markdown",
      "metadata": {
        "id": "CbVXWe9g2ASC"
      },
      "source": [
        "* Пример многопоточного выполнения задач. Написать скрипт, который запускает несколько потоков для выполнения функции, которая симулирует длительную задачу (например, ожидание с использованием `time.sleep()`).\n",
        "\n",
        "* Асинхронное программирование с использованием `asyncio`. Написать асинхронный скрипт для выполнения и ожидания результатов нескольких асинхронных операций (например, асинхронных HTTP-запросов)."
      ]
    },
    {
      "cell_type": "markdown",
      "metadata": {
        "id": "gUi6Jy2u1y2L"
      },
      "source": [
        "1. Импортировать модуль `threading` и `time`."
      ]
    },
    {
      "cell_type": "code",
      "execution_count": null,
      "metadata": {
        "id": "2gqfAS3Ozi1j"
      },
      "outputs": [],
      "source": [
        "import threading, time"
      ]
    },
    {
      "cell_type": "markdown",
      "metadata": {
        "id": "5PDWiI7C1y2L"
      },
      "source": [
        "2. Определить функцию, которая симулирует длительную задачу."
      ]
    },
    {
      "cell_type": "code",
      "execution_count": null,
      "metadata": {
        "id": "9DqHipjK1y2M"
      },
      "outputs": [],
      "source": [
        "def task(name):\n",
        "    print(f\"Задача {name} началась\\n\")\n",
        "    time.sleep(2)\n",
        "    print(f\"\\nЗадача {name} завершена\")"
      ]
    },
    {
      "cell_type": "markdown",
      "metadata": {
        "id": "_NI3SmkW1y2N"
      },
      "source": [
        "3. Запустить несколько потоков для выполнения этой функции."
      ]
    },
    {
      "cell_type": "code",
      "execution_count": null,
      "metadata": {
        "id": "WMB5m3E91y2N"
      },
      "outputs": [],
      "source": [
        "for i in range(5):\n",
        "    t = threading.Thread(target=task, args=(f\"Поток {i+1}\",))\n",
        "    t.start()"
      ]
    },
    {
      "cell_type": "markdown",
      "metadata": {
        "id": "kVQ05HZL1y2O"
      },
      "source": [
        "4. Импортировать модуль `asyncio`."
      ]
    },
    {
      "cell_type": "code",
      "execution_count": null,
      "metadata": {
        "id": "irQVsoDQ1y2Y"
      },
      "outputs": [],
      "source": [
        "import asyncio"
      ]
    },
    {
      "cell_type": "markdown",
      "metadata": {
        "id": "UpdeEXqh1y2Z"
      },
      "source": [
        "5. Определить асинхронную функцию, которая выполняет асинхронную операцию."
      ]
    },
    {
      "cell_type": "code",
      "execution_count": null,
      "metadata": {
        "id": "TUhFF1BG1y2b"
      },
      "outputs": [],
      "source": [
        "async def async_task(name):\n",
        "    print(f\"Асинхронная задача {name} началась\")\n",
        "    await asyncio.sleep(2)\n",
        "    print(f\"Асинхронная задача {name} завершена\")"
      ]
    },
    {
      "cell_type": "markdown",
      "metadata": {
        "id": "szb9rcni1y2e"
      },
      "source": [
        "6. Создать и запустить задачи"
      ]
    },
    {
      "cell_type": "code",
      "execution_count": null,
      "metadata": {
        "id": "FHtxBT4m1y2e"
      },
      "outputs": [],
      "source": [
        "tasks = [asyncio.create_task(async_task(f\"Задача {i+1}\")) for i in range(5)]"
      ]
    },
    {
      "cell_type": "markdown",
      "metadata": {
        "id": "sxtqB3BW1y2f"
      },
      "source": [
        "7. Другой способ. Определить и запустить основную асинхронную функцию `main`."
      ]
    },
    {
      "cell_type": "code",
      "execution_count": null,
      "metadata": {
        "id": "lk45YDWd1y2g"
      },
      "outputs": [],
      "source": [
        "async def main():\n",
        "    await asyncio.gather(*(async_task(f\"Задача {i+1}\") for i in range(5)))\n",
        "\n",
        "await main()"
      ]
    }
  ],
  "metadata": {
    "colab": {
      "collapsed_sections": [
        "3phA2BUG1y2h"
      ],
      "provenance": []
    },
    "kernelspec": {
      "display_name": "Python 3",
      "language": "python",
      "name": "python3"
    },
    "language_info": {
      "codemirror_mode": {
        "name": "ipython",
        "version": 3
      },
      "file_extension": ".py",
      "mimetype": "text/x-python",
      "name": "python",
      "nbconvert_exporter": "python",
      "pygments_lexer": "ipython3",
      "version": "3.8.5"
    }
  },
  "nbformat": 4,
  "nbformat_minor": 0
}
